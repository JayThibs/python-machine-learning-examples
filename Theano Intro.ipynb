{
 "cells": [
  {
   "cell_type": "markdown",
   "metadata": {},
   "source": [
    "Theano is a Python library for fast numerical computation that can be run on the CPU or GPU (which is accessible with AWS). Theano allows you to define, optimize, and evaluate mathematical expressions (symbolic) including multi-dimensional arrays efficiently. It can be used to create deep learning models."
   ]
  },
  {
   "cell_type": "code",
   "execution_count": 1,
   "metadata": {
    "collapsed": true
   },
   "outputs": [],
   "source": [
    "import theano\n",
    "from theano import tensor as T, function\n",
    "\n",
    "import numpy as np"
   ]
  },
  {
   "cell_type": "markdown",
   "metadata": {},
   "source": [
    "# Function definitions"
   ]
  },
  {
   "cell_type": "markdown",
   "metadata": {},
   "source": [
    "Theano allows us to create symbolic expressions and manipulate them how we want (even with derivatives and more!).\n",
    "\n",
    "Here we will define one independent variable and two dependent variables and find out how Theano works."
   ]
  },
  {
   "cell_type": "code",
   "execution_count": 9,
   "metadata": {
    "collapsed": true
   },
   "outputs": [],
   "source": [
    "X = T.matrix('x')\n",
    "Y = X ** 2 # x^2\n",
    "\n",
    "Z = T.grad(Y.sum(), X) # deriving dy/dx -> z = d(x^2)/dx = 2*x\n",
    "\n",
    "F = function([X], [Y, Z]) # compile\n"
   ]
  },
  {
   "cell_type": "code",
   "execution_count": 10,
   "metadata": {
    "collapsed": false
   },
   "outputs": [],
   "source": [
    "x = np.ones((2,2)) * 3\n",
    "y, z = F(x) # takes our numpy array and inputs in symbolic function"
   ]
  },
  {
   "cell_type": "markdown",
   "metadata": {},
   "source": [
    "# Print results"
   ]
  },
  {
   "cell_type": "code",
   "execution_count": 11,
   "metadata": {
    "collapsed": false
   },
   "outputs": [
    {
     "name": "stdout",
     "output_type": "stream",
     "text": [
      "[[ 3.  3.]\n",
      " [ 3.  3.]]\n",
      "------------\n",
      "[[ 9.  9.]\n",
      " [ 9.  9.]]\n",
      "------------\n",
      "[[ 6.  6.]\n",
      " [ 6.  6.]]\n"
     ]
    }
   ],
   "source": [
    "print(x)\n",
    "print('-'*12)\n",
    "print(y)\n",
    "print('-'*12)\n",
    "print(z)"
   ]
  },
  {
   "cell_type": "markdown",
   "metadata": {},
   "source": [
    "As we can see, Theano easily manipulates the expressions to arrive at the numerical values we are looking for.\n",
    "\n",
    "We can use Keras which is a wrapper library that hides Theano completely and provides a very simple API to create work with to create  deep learning models."
   ]
  },
  {
   "cell_type": "code",
   "execution_count": null,
   "metadata": {
    "collapsed": true
   },
   "outputs": [],
   "source": []
  }
 ],
 "metadata": {
  "kernelspec": {
   "display_name": "Python 3",
   "language": "python",
   "name": "python3"
  },
  "language_info": {
   "codemirror_mode": {
    "name": "ipython",
    "version": 3
   },
   "file_extension": ".py",
   "mimetype": "text/x-python",
   "name": "python",
   "nbconvert_exporter": "python",
   "pygments_lexer": "ipython3",
   "version": "3.6.0"
  }
 },
 "nbformat": 4,
 "nbformat_minor": 2
}
